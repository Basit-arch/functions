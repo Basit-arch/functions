{
  "nbformat": 4,
  "nbformat_minor": 0,
  "metadata": {
    "colab": {
      "provenance": []
    },
    "kernelspec": {
      "name": "python3",
      "display_name": "Python 3"
    },
    "language_info": {
      "name": "python"
    }
  },
  "cells": [
    {
      "cell_type": "markdown",
      "source": [
        "##Theory Questions:"
      ],
      "metadata": {
        "id": "hvuoJSNhocZW"
      }
    },
    {
      "cell_type": "markdown",
      "source": [
        " 1. What is the difference between a function and a method in Python?"
      ],
      "metadata": {
        "id": "gSyWlJJWeDCy"
      }
    },
    {
      "cell_type": "markdown",
      "source": [
        "\n",
        "A function is a standalone block of code, while a method is a function associated with an object."
      ],
      "metadata": {
        "id": "qH84Ebh2eX23"
      }
    },
    {
      "cell_type": "code",
      "source": [
        "## EXAMPLE\n",
        "def greet():  # Function\n",
        "    print(\"Hello!\")\n",
        "\n",
        "class Person:\n",
        "    def greet(self):  # Method\n",
        "        print(\"Hi, I'm a person!\")\n"
      ],
      "metadata": {
        "id": "FjrcI-Lmegva"
      },
      "execution_count": 1,
      "outputs": []
    },
    {
      "cell_type": "markdown",
      "source": [
        "2. Explain the concept of function arguments and parameters in Python."
      ],
      "metadata": {
        "id": "kaEqSKeRewJ2"
      }
    },
    {
      "cell_type": "markdown",
      "source": [
        "\n",
        "Parameters are variables listed in a function's definition, while arguments are the values passed to the function when calling it.\n",
        "\n",
        "Example:"
      ],
      "metadata": {
        "id": "0DYXx4n7e1jz"
      }
    },
    {
      "cell_type": "code",
      "source": [
        "def greet(name):  # Parameter: name\n",
        "    print(f\"Hello, {name}!\")\n",
        "\n",
        "greet(\"Alice\")  # Argument: \"Alice\"\n"
      ],
      "metadata": {
        "colab": {
          "base_uri": "https://localhost:8080/"
        },
        "id": "jEsC_yrKfKgJ",
        "outputId": "5df0e60e-f300-4cf8-ef2c-ddbb08ee393a"
      },
      "execution_count": 2,
      "outputs": [
        {
          "output_type": "stream",
          "name": "stdout",
          "text": [
            "Hello, Alice!\n"
          ]
        }
      ]
    },
    {
      "cell_type": "markdown",
      "source": [
        " 3. What are the different ways to define and call a function in Python?"
      ],
      "metadata": {
        "id": "0HqyBUXNfMH4"
      }
    },
    {
      "cell_type": "markdown",
      "source": [
        "Functions can be defined with def, lambda (anonymous functions), or nested functions. Called directly, with arguments, or via object methods.\n",
        "\n",
        "Example:"
      ],
      "metadata": {
        "id": "3TYTiK_XfbgW"
      }
    },
    {
      "cell_type": "code",
      "source": [
        "# Regular function\n",
        "def greet(name):\n",
        "    print(f\"Hello, {name}!\")\n",
        "\n",
        "# Lambda function\n",
        "add = lambda x, y: x + y\n",
        "\n",
        "greet(\"Alice\")  # Call regular function\n",
        "print(add(3, 5))  # Call lambda function\n"
      ],
      "metadata": {
        "colab": {
          "base_uri": "https://localhost:8080/"
        },
        "id": "dtZzuS6Tfcrn",
        "outputId": "b1b45f92-d9ab-4a00-951f-c2990cba22bb"
      },
      "execution_count": 3,
      "outputs": [
        {
          "output_type": "stream",
          "name": "stdout",
          "text": [
            "Hello, Alice!\n",
            "8\n"
          ]
        }
      ]
    },
    {
      "cell_type": "markdown",
      "source": [
        " 4. What is the purpose of the `return` statement in a Python function?"
      ],
      "metadata": {
        "id": "8JewJfbpff9u"
      }
    },
    {
      "cell_type": "markdown",
      "source": [
        "\n",
        "The return statement sends a value from a function back to the caller, allowing the function to produce an output.\n",
        "\n",
        "Example:"
      ],
      "metadata": {
        "id": "kG1gnrxwfrVU"
      }
    },
    {
      "cell_type": "code",
      "source": [
        "def add(a, b):\n",
        "    return a + b\n",
        "\n",
        "result = add(3, 5)  # Output: 8\n"
      ],
      "metadata": {
        "id": "WUUbg-fRfscW"
      },
      "execution_count": 4,
      "outputs": []
    },
    {
      "cell_type": "markdown",
      "source": [
        " 5. What are iterators in Python and how do they differ from iterables?"
      ],
      "metadata": {
        "id": "z7s9BeXFfvQp"
      }
    },
    {
      "cell_type": "markdown",
      "source": [
        "\n",
        "An iterable is an object that can be looped over (e.g., lists, strings), while an iterator is an object with __iter__() and __next__() methods to produce elements sequentially.\n",
        "\n",
        "Example:"
      ],
      "metadata": {
        "id": "UJKHoJXwf1eq"
      }
    },
    {
      "cell_type": "code",
      "source": [
        "# Iterable\n",
        "my_list = [1, 2, 3]\n",
        "\n",
        "# Convert to Iterator\n",
        "my_iterator = iter(my_list)\n",
        "\n",
        "print(next(my_iterator))  # Output: 1\n",
        "print(next(my_iterator))  # Output: 2\n"
      ],
      "metadata": {
        "colab": {
          "base_uri": "https://localhost:8080/"
        },
        "id": "UwTXW58Wf-xg",
        "outputId": "2c57e1c1-f51f-4cdf-bac2-d80f8ed97330"
      },
      "execution_count": 5,
      "outputs": [
        {
          "output_type": "stream",
          "name": "stdout",
          "text": [
            "1\n",
            "2\n"
          ]
        }
      ]
    },
    {
      "cell_type": "markdown",
      "source": [
        "terables can generate iterators using iter(), but iterators can only traverse once"
      ],
      "metadata": {
        "id": "XZpY8tsmgEg5"
      }
    },
    {
      "cell_type": "markdown",
      "source": [
        " 6. Explain the concept of generators in Python and how they are defined."
      ],
      "metadata": {
        "id": "sH0P3XVrgFVQ"
      }
    },
    {
      "cell_type": "markdown",
      "source": [
        "defined. withexmples\n",
        "ChatGPT said:\n",
        "ChatGPT\n",
        "Generators are a type of iterable in Python that yield items one at a time using the yield keyword, making them memory-efficient for large data.\n",
        "\n",
        "Example:"
      ],
      "metadata": {
        "id": "QDOBAr78gLDk"
      }
    },
    {
      "cell_type": "code",
      "source": [
        "def count_up_to(n):\n",
        "    count = 1\n",
        "    while count <= n:\n",
        "        yield count  # Generates one value at a time\n",
        "        count += 1\n",
        "\n",
        "gen = count_up_to(3)\n",
        "print(next(gen))  # Output: 1\n",
        "print(next(gen))  # Output: 2\n"
      ],
      "metadata": {
        "colab": {
          "base_uri": "https://localhost:8080/"
        },
        "id": "6nlCocR0gVjW",
        "outputId": "84cdd814-33e8-4438-d1c6-a42c5290d4a6"
      },
      "execution_count": 6,
      "outputs": [
        {
          "output_type": "stream",
          "name": "stdout",
          "text": [
            "1\n",
            "2\n"
          ]
        }
      ]
    },
    {
      "cell_type": "markdown",
      "source": [
        "Generators are defined like functions but return values using yield instead of return."
      ],
      "metadata": {
        "id": "xvzZJZGjgX-_"
      }
    },
    {
      "cell_type": "markdown",
      "source": [
        " 7. What are the advantages of using generators over regular functions?"
      ],
      "metadata": {
        "id": "tTGSyYYVgbxo"
      }
    },
    {
      "cell_type": "markdown",
      "source": [
        "\n",
        "Advantages of generators over regular functions:\n",
        "\n",
        "1.Memory efficiency: They generate items on-demand, avoiding storage of large data in memory.\n",
        "\n",
        "2.Lazy evaluation: Useful for handling infinite or large sequences.\n",
        "\n",
        "3.Simpler code: Replace complex iterator logic.\n",
        "\n",
        "Example:"
      ],
      "metadata": {
        "id": "F78vDigFgp0c"
      }
    },
    {
      "cell_type": "code",
      "source": [
        "# Generator for Fibonacci numbers\n",
        "def fibonacci(limit):\n",
        "    a, b = 0, 1\n",
        "    while a < limit:\n",
        "        yield a\n",
        "        a, b = b, a + b\n",
        "\n",
        "for num in fibonacci(10):  # Generates one number at a time\n",
        "    print(num)  # Output: 0, 1, 1, 2, 3, 5, 8\n"
      ],
      "metadata": {
        "colab": {
          "base_uri": "https://localhost:8080/"
        },
        "id": "m9WpUclag50d",
        "outputId": "48cb344c-5c56-437b-99fc-8439bc899c15"
      },
      "execution_count": 7,
      "outputs": [
        {
          "output_type": "stream",
          "name": "stdout",
          "text": [
            "0\n",
            "1\n",
            "1\n",
            "2\n",
            "3\n",
            "5\n",
            "8\n"
          ]
        }
      ]
    },
    {
      "cell_type": "markdown",
      "source": [
        "Regular functions would require constructing and returning a full list upfront, consuming more memory."
      ],
      "metadata": {
        "id": "p8K2nRXAg8kQ"
      }
    },
    {
      "cell_type": "markdown",
      "source": [
        " 8. What is a lambda function in Python and when is it typically used?"
      ],
      "metadata": {
        "id": "DcsAdF5FhCMG"
      }
    },
    {
      "cell_type": "markdown",
      "source": [
        "\n",
        "A lambda function is a compact, anonymous function defined with lambda, used for simple operations in one line. It's typically used in short-lived functions or as arguments in higher-order functions.\n",
        "\n",
        "Example:"
      ],
      "metadata": {
        "id": "PrIdtvmKhGYm"
      }
    },
    {
      "cell_type": "code",
      "source": [
        "# Lambda to add two numbers\n",
        "add = lambda x, y: x + y\n",
        "print(add(3, 5))  # Output: 8\n",
        "\n",
        "# Used in sorting\n",
        "data = [(1, 'A'), (2, 'C'), (3, 'B')]\n",
        "sorted_data = sorted(data, key=lambda x: x[1])\n",
        "print(sorted_data)  # Output: [(1, 'A'), (3, 'B'), (2, 'C')]\n"
      ],
      "metadata": {
        "colab": {
          "base_uri": "https://localhost:8080/"
        },
        "id": "z2yyfYDQhRmI",
        "outputId": "83942e5e-d192-44cc-b2c3-2cdf74265691"
      },
      "execution_count": 8,
      "outputs": [
        {
          "output_type": "stream",
          "name": "stdout",
          "text": [
            "8\n",
            "[(1, 'A'), (3, 'B'), (2, 'C')]\n"
          ]
        }
      ]
    },
    {
      "cell_type": "markdown",
      "source": [
        " 9. Explain the purpose and usage of the `map()` function in Python."
      ],
      "metadata": {
        "id": "HXdUGOBihT-B"
      }
    },
    {
      "cell_type": "markdown",
      "source": [
        "\n",
        "\n",
        "The map() function applies a specified function to each item in an iterable, returning a map object (iterator). It's useful for transforming data efficiently.\n",
        "\n",
        "Example:"
      ],
      "metadata": {
        "id": "hxwf7WHOhrei"
      }
    },
    {
      "cell_type": "code",
      "source": [
        "# Square each number in a list\n",
        "numbers = [1, 2, 3, 4]\n",
        "squares = map(lambda x: x ** 2, numbers)\n",
        "print(list(squares))  # Output: [1, 4, 9, 16]\n"
      ],
      "metadata": {
        "colab": {
          "base_uri": "https://localhost:8080/"
        },
        "id": "NmINgazKhvde",
        "outputId": "80cdc52e-4b0d-4366-fb81-5ff814860ebd"
      },
      "execution_count": 9,
      "outputs": [
        {
          "output_type": "stream",
          "name": "stdout",
          "text": [
            "[1, 4, 9, 16]\n"
          ]
        }
      ]
    },
    {
      "cell_type": "markdown",
      "source": [
        "It simplifies repetitive operations without explicit loops."
      ],
      "metadata": {
        "id": "08ba2Hznh2d6"
      }
    },
    {
      "cell_type": "markdown",
      "source": [
        " 10. What is the difference between `map()`, `reduce()`, and `filter()` functions in Python?"
      ],
      "metadata": {
        "id": "qa2zKIVlh3T4"
      }
    },
    {
      "cell_type": "markdown",
      "source": [
        "1.map() applies a function to each item in an iterable, returning a transformed iterable.\n",
        "\n",
        "2.filter() filters items based on a condition.\n",
        "\n",
        "3.reduce() accumulates results through a function.\n",
        "\n",
        "Example:"
      ],
      "metadata": {
        "id": "lMA9U48Jh6_o"
      }
    },
    {
      "cell_type": "code",
      "source": [
        "from functools import reduce\n",
        "\n",
        "# map() - square each number\n",
        "numbers = [1, 2, 3]\n",
        "squared = map(lambda x: x**2, numbers)\n",
        "\n",
        "# filter() - select even numbers\n",
        "even = filter(lambda x: x % 2 == 0, numbers)\n",
        "\n",
        "# reduce() - sum all numbers\n",
        "sum_all = reduce(lambda x, y: x + y, numbers)\n",
        "\n",
        "print(list(squared))  # Output: [1, 4, 9]\n",
        "print(list(even))  # Output: [2]\n",
        "print(sum_all)  # Output: 6\n"
      ],
      "metadata": {
        "colab": {
          "base_uri": "https://localhost:8080/"
        },
        "id": "C_jdeQpxh7d3",
        "outputId": "d2913a75-843d-4d5c-9437-6e260d23a50d"
      },
      "execution_count": 10,
      "outputs": [
        {
          "output_type": "stream",
          "name": "stdout",
          "text": [
            "[1, 4, 9]\n",
            "[2]\n",
            "6\n"
          ]
        }
      ]
    },
    {
      "cell_type": "markdown",
      "source": [
        "\n",
        "11. Using pen & Paper write the internal mechanism for sum operation using  reduce function on this given list:[47,11,42,13];"
      ],
      "metadata": {
        "id": "9a19hpZ8iT1r"
      }
    },
    {
      "cell_type": "markdown",
      "source": [
        "The reduce() function from the functools module in Python is used to apply a function cumulatively to the items in an iterable, from left to right, so as to reduce the iterable to a single value.\n",
        "\n",
        "Let's use reduce() to perform the sum operation on the list [47, 11, 42, 13]:\n",
        "\n",
        "Example:"
      ],
      "metadata": {
        "id": "PUK56vVPmquk"
      }
    },
    {
      "cell_type": "code",
      "source": [
        "from functools import reduce\n",
        "\n",
        "numbers = [47, 11, 42, 13]\n",
        "result = reduce(lambda x, y: x + y, numbers)\n",
        "print(result)\n"
      ],
      "metadata": {
        "colab": {
          "base_uri": "https://localhost:8080/"
        },
        "id": "903Eg7mVn6HQ",
        "outputId": "9989db47-9a32-49a9-cffb-2bf3345eea2a"
      },
      "execution_count": 16,
      "outputs": [
        {
          "output_type": "stream",
          "name": "stdout",
          "text": [
            "113\n"
          ]
        }
      ]
    },
    {
      "cell_type": "code",
      "source": [
        "       from  google.colab import files\n",
        "       from   IPython.display import Image"
      ],
      "metadata": {
        "id": "NlkwVTXb0cWI"
      },
      "execution_count": 58,
      "outputs": []
    },
    {
      "cell_type": "code",
      "source": [
        "uploaded = files. upload ()"
      ],
      "metadata": {
        "colab": {
          "base_uri": "https://localhost:8080/",
          "height": 75
        },
        "id": "gAM-xxZN2nCq",
        "outputId": "d2f464a6-e0b1-4b7d-f2da-8dfed71f3c38"
      },
      "execution_count": 61,
      "outputs": [
        {
          "output_type": "display_data",
          "data": {
            "text/plain": [
              "<IPython.core.display.HTML object>"
            ],
            "text/html": [
              "\n",
              "     <input type=\"file\" id=\"files-20dd513b-acfd-43e8-95d5-7e409aa28819\" name=\"files[]\" multiple disabled\n",
              "        style=\"border:none\" />\n",
              "     <output id=\"result-20dd513b-acfd-43e8-95d5-7e409aa28819\">\n",
              "      Upload widget is only available when the cell has been executed in the\n",
              "      current browser session. Please rerun this cell to enable.\n",
              "      </output>\n",
              "      <script>// Copyright 2017 Google LLC\n",
              "//\n",
              "// Licensed under the Apache License, Version 2.0 (the \"License\");\n",
              "// you may not use this file except in compliance with the License.\n",
              "// You may obtain a copy of the License at\n",
              "//\n",
              "//      http://www.apache.org/licenses/LICENSE-2.0\n",
              "//\n",
              "// Unless required by applicable law or agreed to in writing, software\n",
              "// distributed under the License is distributed on an \"AS IS\" BASIS,\n",
              "// WITHOUT WARRANTIES OR CONDITIONS OF ANY KIND, either express or implied.\n",
              "// See the License for the specific language governing permissions and\n",
              "// limitations under the License.\n",
              "\n",
              "/**\n",
              " * @fileoverview Helpers for google.colab Python module.\n",
              " */\n",
              "(function(scope) {\n",
              "function span(text, styleAttributes = {}) {\n",
              "  const element = document.createElement('span');\n",
              "  element.textContent = text;\n",
              "  for (const key of Object.keys(styleAttributes)) {\n",
              "    element.style[key] = styleAttributes[key];\n",
              "  }\n",
              "  return element;\n",
              "}\n",
              "\n",
              "// Max number of bytes which will be uploaded at a time.\n",
              "const MAX_PAYLOAD_SIZE = 100 * 1024;\n",
              "\n",
              "function _uploadFiles(inputId, outputId) {\n",
              "  const steps = uploadFilesStep(inputId, outputId);\n",
              "  const outputElement = document.getElementById(outputId);\n",
              "  // Cache steps on the outputElement to make it available for the next call\n",
              "  // to uploadFilesContinue from Python.\n",
              "  outputElement.steps = steps;\n",
              "\n",
              "  return _uploadFilesContinue(outputId);\n",
              "}\n",
              "\n",
              "// This is roughly an async generator (not supported in the browser yet),\n",
              "// where there are multiple asynchronous steps and the Python side is going\n",
              "// to poll for completion of each step.\n",
              "// This uses a Promise to block the python side on completion of each step,\n",
              "// then passes the result of the previous step as the input to the next step.\n",
              "function _uploadFilesContinue(outputId) {\n",
              "  const outputElement = document.getElementById(outputId);\n",
              "  const steps = outputElement.steps;\n",
              "\n",
              "  const next = steps.next(outputElement.lastPromiseValue);\n",
              "  return Promise.resolve(next.value.promise).then((value) => {\n",
              "    // Cache the last promise value to make it available to the next\n",
              "    // step of the generator.\n",
              "    outputElement.lastPromiseValue = value;\n",
              "    return next.value.response;\n",
              "  });\n",
              "}\n",
              "\n",
              "/**\n",
              " * Generator function which is called between each async step of the upload\n",
              " * process.\n",
              " * @param {string} inputId Element ID of the input file picker element.\n",
              " * @param {string} outputId Element ID of the output display.\n",
              " * @return {!Iterable<!Object>} Iterable of next steps.\n",
              " */\n",
              "function* uploadFilesStep(inputId, outputId) {\n",
              "  const inputElement = document.getElementById(inputId);\n",
              "  inputElement.disabled = false;\n",
              "\n",
              "  const outputElement = document.getElementById(outputId);\n",
              "  outputElement.innerHTML = '';\n",
              "\n",
              "  const pickedPromise = new Promise((resolve) => {\n",
              "    inputElement.addEventListener('change', (e) => {\n",
              "      resolve(e.target.files);\n",
              "    });\n",
              "  });\n",
              "\n",
              "  const cancel = document.createElement('button');\n",
              "  inputElement.parentElement.appendChild(cancel);\n",
              "  cancel.textContent = 'Cancel upload';\n",
              "  const cancelPromise = new Promise((resolve) => {\n",
              "    cancel.onclick = () => {\n",
              "      resolve(null);\n",
              "    };\n",
              "  });\n",
              "\n",
              "  // Wait for the user to pick the files.\n",
              "  const files = yield {\n",
              "    promise: Promise.race([pickedPromise, cancelPromise]),\n",
              "    response: {\n",
              "      action: 'starting',\n",
              "    }\n",
              "  };\n",
              "\n",
              "  cancel.remove();\n",
              "\n",
              "  // Disable the input element since further picks are not allowed.\n",
              "  inputElement.disabled = true;\n",
              "\n",
              "  if (!files) {\n",
              "    return {\n",
              "      response: {\n",
              "        action: 'complete',\n",
              "      }\n",
              "    };\n",
              "  }\n",
              "\n",
              "  for (const file of files) {\n",
              "    const li = document.createElement('li');\n",
              "    li.append(span(file.name, {fontWeight: 'bold'}));\n",
              "    li.append(span(\n",
              "        `(${file.type || 'n/a'}) - ${file.size} bytes, ` +\n",
              "        `last modified: ${\n",
              "            file.lastModifiedDate ? file.lastModifiedDate.toLocaleDateString() :\n",
              "                                    'n/a'} - `));\n",
              "    const percent = span('0% done');\n",
              "    li.appendChild(percent);\n",
              "\n",
              "    outputElement.appendChild(li);\n",
              "\n",
              "    const fileDataPromise = new Promise((resolve) => {\n",
              "      const reader = new FileReader();\n",
              "      reader.onload = (e) => {\n",
              "        resolve(e.target.result);\n",
              "      };\n",
              "      reader.readAsArrayBuffer(file);\n",
              "    });\n",
              "    // Wait for the data to be ready.\n",
              "    let fileData = yield {\n",
              "      promise: fileDataPromise,\n",
              "      response: {\n",
              "        action: 'continue',\n",
              "      }\n",
              "    };\n",
              "\n",
              "    // Use a chunked sending to avoid message size limits. See b/62115660.\n",
              "    let position = 0;\n",
              "    do {\n",
              "      const length = Math.min(fileData.byteLength - position, MAX_PAYLOAD_SIZE);\n",
              "      const chunk = new Uint8Array(fileData, position, length);\n",
              "      position += length;\n",
              "\n",
              "      const base64 = btoa(String.fromCharCode.apply(null, chunk));\n",
              "      yield {\n",
              "        response: {\n",
              "          action: 'append',\n",
              "          file: file.name,\n",
              "          data: base64,\n",
              "        },\n",
              "      };\n",
              "\n",
              "      let percentDone = fileData.byteLength === 0 ?\n",
              "          100 :\n",
              "          Math.round((position / fileData.byteLength) * 100);\n",
              "      percent.textContent = `${percentDone}% done`;\n",
              "\n",
              "    } while (position < fileData.byteLength);\n",
              "  }\n",
              "\n",
              "  // All done.\n",
              "  yield {\n",
              "    response: {\n",
              "      action: 'complete',\n",
              "    }\n",
              "  };\n",
              "}\n",
              "\n",
              "scope.google = scope.google || {};\n",
              "scope.google.colab = scope.google.colab || {};\n",
              "scope.google.colab._files = {\n",
              "  _uploadFiles,\n",
              "  _uploadFilesContinue,\n",
              "};\n",
              "})(self);\n",
              "</script> "
            ]
          },
          "metadata": {}
        },
        {
          "output_type": "stream",
          "name": "stdout",
          "text": [
            "Saving Q11..jpg to Q11..jpg\n"
          ]
        }
      ]
    },
    {
      "cell_type": "code",
      "source": [
        " Image('Q11..jpg',\n",
        "      width = 524)"
      ],
      "metadata": {
        "colab": {
          "base_uri": "https://localhost:8080/",
          "height": 734
        },
        "id": "uFG5Kfvr4AUY",
        "outputId": "1d6e840d-28d7-42c8-aa59-358b09eb81f8"
      },
      "execution_count": 71,
      "outputs": [
        {
          "output_type": "execute_result",
          "data": {
            "image/jpeg": "[encoded data removed]",
            "text/plain": [
              "<IPython.core.display.Image object>"
            ]
          },
          "metadata": {
            "image/jpeg": {
              "width": 524
            }
          },
          "execution_count": 71
        }
      ]
    },
    {
      "cell_type": "markdown",
      "source": [
        "##Practical Questions:"
      ],
      "metadata": {
        "id": "yjusrq5yoOEO"
      }
    },
    {
      "cell_type": "markdown",
      "source": [
        " 1. Write a Python function that takes a list of numbers as input and returns the sum of all even numbers in\n",
        "the list."
      ],
      "metadata": {
        "id": "apukCOqGoXwA"
      }
    },
    {
      "cell_type": "markdown",
      "source": [
        "\n",
        "Here's a Python function that takes a list of numbers as input and returns the sum of all even numbers in the list:"
      ],
      "metadata": {
        "id": "C9eL4OlZpBh6"
      }
    },
    {
      "cell_type": "code",
      "source": [
        "def sum_of_even_numbers(numbers):\n",
        "    # Use list comprehension to filter even numbers and sum them\n",
        "    return sum(num for num in numbers if num % 2 == 0)\n",
        "\n",
        "# Example usage:\n",
        "numbers = [47, 11, 42, 13, 8]\n",
        "result = sum_of_even_numbers(numbers)\n",
        "print(result)  # Output: 50 (42 + 8)\n"
      ],
      "metadata": {
        "colab": {
          "base_uri": "https://localhost:8080/"
        },
        "id": "NQPNHahFpCSY",
        "outputId": "304752a8-0b0b-4326-cde1-1410cdba6cba"
      },
      "execution_count": 17,
      "outputs": [
        {
          "output_type": "stream",
          "name": "stdout",
          "text": [
            "50\n"
          ]
        }
      ]
    },
    {
      "cell_type": "markdown",
      "source": [
        "##Explanation:\n",
        "The function uses a list comprehension to filter only the even numbers (num % 2 == 0).\n",
        "The sum() function then adds these filtered numbers together.\n",
        "\n",
        "\n",
        "\n",
        "\n",
        "\n"
      ],
      "metadata": {
        "id": "2sXE0pU2pE8g"
      }
    },
    {
      "cell_type": "markdown",
      "source": [
        " 2. Create a Python function that accepts a string and returns the reverse of that string."
      ],
      "metadata": {
        "id": "JYUe1D7HpK6p"
      }
    },
    {
      "cell_type": "markdown",
      "source": [
        "Here's a Python function that accepts a string and returns the reverse of that string:"
      ],
      "metadata": {
        "id": "wAD9O86kpUd0"
      }
    },
    {
      "cell_type": "code",
      "source": [
        "def reverse_string(s):\n",
        "    return s[::-1]\n",
        "\n",
        "# Example usage:\n",
        "input_string = \"hello\"\n",
        "result = reverse_string(input_string)\n",
        "print(result)  # Output: \"olleh\"\n"
      ],
      "metadata": {
        "colab": {
          "base_uri": "https://localhost:8080/"
        },
        "id": "iQBQy7MmpVCE",
        "outputId": "abb7198c-a294-484c-c289-0ac32a68e2b1"
      },
      "execution_count": 18,
      "outputs": [
        {
          "output_type": "stream",
          "name": "stdout",
          "text": [
            "olleh\n"
          ]
        }
      ]
    },
    {
      "cell_type": "markdown",
      "source": [
        "##Explanation:\n",
        "The function uses Python's slicing technique (s[::-1]) to reverse the string.\n",
        "The slice [::-1] means start at the end of the string and step backward by 1, effectively reversing it.\n",
        "\n",
        "\n",
        "\n",
        "\n",
        "\n"
      ],
      "metadata": {
        "id": "0QtlZsewpVhT"
      }
    },
    {
      "cell_type": "markdown",
      "source": [
        " 3. Implement a Python function that takes a list of integers and returns a new list containing the squares of\n",
        "each number."
      ],
      "metadata": {
        "id": "Kz_hzTl8pjzh"
      }
    },
    {
      "cell_type": "markdown",
      "source": [
        "Here's a Python function that takes a list of integers and returns a new list containing the squares of each number:"
      ],
      "metadata": {
        "id": "QhXp0dO-p2xy"
      }
    },
    {
      "cell_type": "code",
      "source": [
        "def square_numbers(numbers):\n",
        "    return [num ** 2 for num in numbers]\n",
        "\n",
        "# Example usage:\n",
        "input_list = [1, 2, 3, 4]\n",
        "result = square_numbers(input_list)\n",
        "print(result)  # Output: [1, 4, 9, 16]\n"
      ],
      "metadata": {
        "colab": {
          "base_uri": "https://localhost:8080/"
        },
        "id": "wnCCrF9kp6e7",
        "outputId": "0fc64116-6a79-4678-d075-2edeea4523ab"
      },
      "execution_count": 19,
      "outputs": [
        {
          "output_type": "stream",
          "name": "stdout",
          "text": [
            "[1, 4, 9, 16]\n"
          ]
        }
      ]
    },
    {
      "cell_type": "markdown",
      "source": [
        "##Explanation:\n",
        "The function uses a list comprehension to iterate over each number in the input list and squares it (num ** 2).\n",
        "The result is a new list containing the squared values.\n",
        "\n",
        "\n",
        "\n",
        "\n",
        "\n"
      ],
      "metadata": {
        "id": "URMwyA9mp9u9"
      }
    },
    {
      "cell_type": "markdown",
      "source": [
        " 4. Write a Python function that checks if a given number is prime or not from 1 to 200"
      ],
      "metadata": {
        "id": "QubOPg08qCkc"
      }
    },
    {
      "cell_type": "markdown",
      "source": [
        "Here's a Python function that checks if a given number is prime or not, specifically for numbers between 1 and 200:"
      ],
      "metadata": {
        "id": "sVMFBzJ2qJF8"
      }
    },
    {
      "cell_type": "code",
      "source": [
        "def is_prime(n):\n",
        "    if n < 2:\n",
        "        return False  # 0 and 1 are not prime numbers\n",
        "    for i in range(2, int(n**0.5) + 1):  # Only check up to the square root of n\n",
        "        if n % i == 0:\n",
        "            return False  # n is divisible by i, hence not prime\n",
        "    return True  # n is prime\n",
        "\n",
        "# Example usage:\n",
        "for num in range(1, 201):\n",
        "    if is_prime(num):\n",
        "        print(num, end=\" \")  # Print prime numbers from 1 to 200\n"
      ],
      "metadata": {
        "colab": {
          "base_uri": "https://localhost:8080/"
        },
        "id": "8GShzbf4qYAn",
        "outputId": "754c8409-e295-4af6-e498-bea4a918b0c0"
      },
      "execution_count": 20,
      "outputs": [
        {
          "output_type": "stream",
          "name": "stdout",
          "text": [
            "2 3 5 7 11 13 17 19 23 29 31 37 41 43 47 53 59 61 67 71 73 79 83 89 97 101 103 107 109 113 127 131 137 139 149 151 157 163 167 173 179 181 191 193 197 199 "
          ]
        }
      ]
    },
    {
      "cell_type": "markdown",
      "source": [
        "##Explanation:\n",
        "Prime check: The function checks divisibility from 2 to the square root of n. If n is divisible by any number in this range, it is not prime.\n",
        "Efficiency: The loop only runs up to the square root of n to reduce unnecessary checks.\n",
        "This will print all prime numbers between 1 and 200."
      ],
      "metadata": {
        "id": "N8pOd0Cyqa2k"
      }
    },
    {
      "cell_type": "markdown",
      "source": [
        " 5. Create an iterator class in Python that generates the Fibonacci sequence up to a specified number of\n",
        "terms."
      ],
      "metadata": {
        "id": "jDwM1ExQqiLF"
      }
    },
    {
      "cell_type": "markdown",
      "source": [
        "\n",
        "Here’s an iterator class in Python that generates the Fibonacci sequence up to a specified number of terms:"
      ],
      "metadata": {
        "id": "ElamTTq2qnMs"
      }
    },
    {
      "cell_type": "code",
      "source": [
        "class FibonacciIterator:\n",
        "    def __init__(self, n):\n",
        "        self.n = n  # Number of terms in the Fibonacci sequence\n",
        "        self.a, self.b = 0, 1  # Initialize the first two terms of the sequence\n",
        "        self.count = 0  # To keep track of the number of terms generated\n",
        "\n",
        "    def __iter__(self):\n",
        "        return self  # The iterator object itself\n",
        "\n",
        "    def __next__(self):\n",
        "        if self.count < self.n:\n",
        "            result = self.a  # Return the current Fibonacci number\n",
        "            self.a, self.b = self.b, self.a + self.b  # Update to the next Fibonacci numbers\n",
        "            self.count += 1\n",
        "            return result\n",
        "        else:\n",
        "            raise StopIteration  # Stop iteration when the specified number of terms is reached\n",
        "\n",
        "# Example usage:\n",
        "fibonacci_sequence = FibonacciIterator(10)\n",
        "for num in fibonacci_sequence:\n",
        "    print(num, end=\" \")  # Output: 0 1 1 2 3 5 8 13 21 34\n"
      ],
      "metadata": {
        "colab": {
          "base_uri": "https://localhost:8080/"
        },
        "id": "BjLGgVl_qqrR",
        "outputId": "f46ca450-732b-4365-dbdf-865686212f89"
      },
      "execution_count": 21,
      "outputs": [
        {
          "output_type": "stream",
          "name": "stdout",
          "text": [
            "0 1 1 2 3 5 8 13 21 34 "
          ]
        }
      ]
    },
    {
      "cell_type": "markdown",
      "source": [
        "##Explanation:\n",
        "Initialization: The class is initialized with n (the number of terms to generate). The first two Fibonacci numbers a and b are set to 0 and 1, respectively.\n",
        "Iterator and next(): The __iter__() method returns the iterator object itself. The __next__() method generates the next Fibonacci number until the specified number of terms (n) is reached. When that happens, it raises a StopIteration exception to end the iteration.\n",
        "This class generates the Fibonacci sequence up to the specified number of terms when iterated."
      ],
      "metadata": {
        "id": "9xspU2yDqstF"
      }
    },
    {
      "cell_type": "markdown",
      "source": [
        " 6. Write a generator function in Python that yields the powers of 2 up to a given exponent."
      ],
      "metadata": {
        "id": "4DrSe5A9qymF"
      }
    },
    {
      "cell_type": "markdown",
      "source": [
        "\n",
        "Here's a generator function in Python that yields the powers of 2 up to a given exponent:"
      ],
      "metadata": {
        "id": "pTEtxHy4q5ut"
      }
    },
    {
      "cell_type": "code",
      "source": [
        "def powers_of_two(exponent):\n",
        "    for i in range(exponent + 1):  # Iterate from 0 to the given exponent\n",
        "        yield 2 ** i  # Yield 2 raised to the power of i\n",
        "\n",
        "# Example usage:\n",
        "for power in powers_of_two(5):\n",
        "    print(power, end=\" \")  # Output: 1 2 4 8 16 32\n"
      ],
      "metadata": {
        "colab": {
          "base_uri": "https://localhost:8080/"
        },
        "id": "41C9VdUXq6gR",
        "outputId": "17bef9bb-845f-4eb2-db36-c44e5ccb4c02"
      },
      "execution_count": 22,
      "outputs": [
        {
          "output_type": "stream",
          "name": "stdout",
          "text": [
            "1 2 4 8 16 32 "
          ]
        }
      ]
    },
    {
      "cell_type": "markdown",
      "source": [
        "##Explanation:\n",
        "The function powers_of_two(exponent) uses a for loop to iterate from 0 to the given exponent.\n",
        "The yield keyword is used to return each power of 2 (i.e., 2 ** i), one at a time.\n",
        "The loop generates the powers of 2 up to 2^exponent.\n",
        "For powers_of_two(5), this will yield 1, 2, 4, 8, 16, 32.\n",
        "\n",
        "\n",
        "\n",
        "\n",
        "\n",
        "\n"
      ],
      "metadata": {
        "id": "yJrm4YC0q8_X"
      }
    },
    {
      "cell_type": "markdown",
      "source": [
        " 7. Implement a generator function that reads a file line by line and yields each line as a string."
      ],
      "metadata": {
        "id": "QgnVyf_UrDE8"
      }
    },
    {
      "cell_type": "markdown",
      "source": [
        "Here's a generator function that reads a file line by line and yields each line as a string:"
      ],
      "metadata": {
        "id": "VEchUwSTrMyU"
      }
    },
    {
      "cell_type": "code",
      "source": [
        "def read_file(filename):\n",
        "    with open(filename) as file:\n",
        "        for line in file:\n",
        "            yield line.strip()\n"
      ],
      "metadata": {
        "id": "a5qJ6vlwsE_q"
      },
      "execution_count": 31,
      "outputs": []
    },
    {
      "cell_type": "markdown",
      "source": [
        " 8. Use a lambda function in Python to sort a list of tuples based on the second element of each tuple."
      ],
      "metadata": {
        "id": "t4tihnQSrS7z"
      }
    },
    {
      "cell_type": "markdown",
      "source": [
        "\n",
        "Here's how you can use a lambda function in Python to sort a list of tuples based on the second element of each tuple:"
      ],
      "metadata": {
        "id": "t9ktX0aVsMUw"
      }
    },
    {
      "cell_type": "code",
      "source": [
        "# List of tuples\n",
        "data = [(1, 'apple'), (3, 'banana'), (2, 'cherry')]\n",
        "\n",
        "# Sort using lambda to compare based on the second element (index 1)\n",
        "sorted_data = sorted(data, key=lambda x: x[1])\n",
        "\n",
        "print(sorted_data)\n"
      ],
      "metadata": {
        "colab": {
          "base_uri": "https://localhost:8080/"
        },
        "id": "OMSvvhN9sTcQ",
        "outputId": "14d391c6-c4d0-4533-cfc8-0d94ae8f2ceb"
      },
      "execution_count": 32,
      "outputs": [
        {
          "output_type": "stream",
          "name": "stdout",
          "text": [
            "[(1, 'apple'), (3, 'banana'), (2, 'cherry')]\n"
          ]
        }
      ]
    },
    {
      "cell_type": "markdown",
      "source": [
        "##0utput:"
      ],
      "metadata": {
        "id": "koDboCX5sZ04"
      }
    },
    {
      "cell_type": "code",
      "source": [
        "[(1, 'apple'), (3, 'banana'), (2, 'cherry')]\n"
      ],
      "metadata": {
        "colab": {
          "base_uri": "https://localhost:8080/"
        },
        "id": "PwGhdks_sgsu",
        "outputId": "c41470a5-52bb-420f-aae5-756937fc270d"
      },
      "execution_count": 33,
      "outputs": [
        {
          "output_type": "execute_result",
          "data": {
            "text/plain": [
              "[(1, 'apple'), (3, 'banana'), (2, 'cherry')]"
            ]
          },
          "metadata": {},
          "execution_count": 33
        }
      ]
    },
    {
      "cell_type": "markdown",
      "source": [
        "##Explanation:\n",
        "The sorted() function is used to sort the data list.\n",
        "\n",
        "The key=lambda x: x[1] argument tells Python to use the second element (x[1]) of each tuple for sorting.\n",
        "\n",
        "The result is the list sorted by the second element of each tuple.\n",
        "\n",
        "\n",
        "\n",
        "\n",
        "\n"
      ],
      "metadata": {
        "id": "HJYjvayCskKm"
      }
    },
    {
      "cell_type": "markdown",
      "source": [
        " 9. Write a Python program that uses `map()` to convert a list of temperatures from Celsius to Fahrenheit"
      ],
      "metadata": {
        "id": "6UBQwNDysqSF"
      }
    },
    {
      "cell_type": "markdown",
      "source": [
        "Here's a Python program that uses the map() function to convert a list of temperatures from Celsius to Fahrenheit:"
      ],
      "metadata": {
        "id": "yZWNTTPbsvLY"
      }
    },
    {
      "cell_type": "code",
      "source": [
        "# Function to convert Celsius to Fahrenheit\n",
        "def celsius_to_fahrenheit(celsius):\n",
        "    return (celsius * 9/5) + 32\n",
        "\n",
        "# List of temperatures in Celsius\n",
        "celsius_temps = [0, 20, 37, 100]\n",
        "\n",
        "# Use map() to convert Celsius to Fahrenheit\n",
        "fahrenheit_temps = map(celsius_to_fahrenheit, celsius_temps)\n",
        "\n",
        "# Convert the map object to a list and print the result\n",
        "print(list(fahrenheit_temps))\n"
      ],
      "metadata": {
        "colab": {
          "base_uri": "https://localhost:8080/"
        },
        "id": "yFAdqdgDsysh",
        "outputId": "5aa578e4-265b-4125-9ec3-e8ba61efc540"
      },
      "execution_count": 34,
      "outputs": [
        {
          "output_type": "stream",
          "name": "stdout",
          "text": [
            "[32.0, 68.0, 98.6, 212.0]\n"
          ]
        }
      ]
    },
    {
      "cell_type": "markdown",
      "source": [
        "##Output:"
      ],
      "metadata": {
        "id": "tqHZfEp2s308"
      }
    },
    {
      "cell_type": "code",
      "source": [
        "[32.0, 68.0, 98.6, 212.0]\n"
      ],
      "metadata": {
        "colab": {
          "base_uri": "https://localhost:8080/"
        },
        "id": "L3PLAjCes8x-",
        "outputId": "2ee2af0e-9d7b-4750-de34-5cab7da0b10d"
      },
      "execution_count": 36,
      "outputs": [
        {
          "output_type": "execute_result",
          "data": {
            "text/plain": [
              "[32.0, 68.0, 98.6, 212.0]"
            ]
          },
          "metadata": {},
          "execution_count": 36
        }
      ]
    },
    {
      "cell_type": "markdown",
      "source": [
        "##Explanation:\n",
        "The celsius_to_fahrenheit() function converts a Celsius temperature to Fahrenheit using the formula (Celsius * 9/5) + 32.\n",
        "\n",
        "The map() function applies this conversion to each element in the celsius_temps list.\n",
        "\n",
        "The list() function is used to convert the resulting map object into a list of Fahrenheit temperatures.\n",
        "\n",
        "\n",
        "\n",
        "\n",
        "\n"
      ],
      "metadata": {
        "id": "8icSjIdAtBU4"
      }
    },
    {
      "cell_type": "markdown",
      "source": [
        " 10. Create a Python program that uses `filter()` to remove all the vowels from a given string"
      ],
      "metadata": {
        "id": "6a8JXwzXtLFI"
      }
    },
    {
      "cell_type": "markdown",
      "source": [
        "\n",
        "Here's a Python program that uses filter() to remove all the vowels from a given string:"
      ],
      "metadata": {
        "id": "u9KwFDBotfM4"
      }
    },
    {
      "cell_type": "code",
      "source": [
        "# Function to check if a character is a vowel\n",
        "def is_not_vowel(char):\n",
        "    return char.lower() not in 'aeiou'\n",
        "\n",
        "# Input string\n",
        "input_string = \"Hello World!\"\n",
        "\n",
        "# Use filter() to remove vowels\n",
        "filtered_string = filter(is_not_vowel, input_string)\n",
        "\n",
        "# Join the result to form a new string without vowels\n",
        "result = ''.join(filtered_string)\n",
        "\n",
        "print(result)\n"
      ],
      "metadata": {
        "colab": {
          "base_uri": "https://localhost:8080/"
        },
        "id": "gVFuHr6wtjA0",
        "outputId": "d9245f59-7bac-43d8-f706-07e74f2a00f3"
      },
      "execution_count": 37,
      "outputs": [
        {
          "output_type": "stream",
          "name": "stdout",
          "text": [
            "Hll Wrld!\n"
          ]
        }
      ]
    },
    {
      "cell_type": "markdown",
      "source": [
        "##Explanation:\n",
        "The function is_not_vowel() returns True for characters that are not vowels and False for vowels.\n",
        "\n",
        "The filter() function applies this function to each character of the input string, keeping only the characters that are not vowels.\n",
        "\n",
        "The ''.join(filtered_string) joins the filtered characters back into a string without vowels.\n",
        "\n",
        "\n",
        "\n",
        "\n",
        "\n"
      ],
      "metadata": {
        "id": "F2ZF0M3Ttk_K"
      }
    },
    {
      "cell_type": "markdown",
      "source": [
        " 11) Imagine an accounting routine used in a book shop. It works on a list with sublists, which look like this:"
      ],
      "metadata": {
        "id": "n4g3Duk8tzP7"
      }
    },
    {
      "cell_type": "markdown",
      "source": [
        "Write a Python program, which returns a list with 2-tuples. Each tuple consists of the order number and the\n",
        "product of the price per item and the quantity. The product should be increased by 10,- € if the value of the\n",
        "order is smaller than 100,00 €."
      ],
      "metadata": {
        "id": "OVkTL2EDx_vj"
      }
    },
    {
      "cell_type": "markdown",
      "source": [
        "Here’s a Python program that processes the given data and returns a list of 2-tuples, where each tuple contains the order number and the adjusted total cost (with the increase of 10€ if the total is smaller than 100€):\n",
        "\n",
        "##Python Program:"
      ],
      "metadata": {
        "id": "EPtdFbJ0yJTz"
      }
    },
    {
      "cell_type": "code",
      "source": [
        "# List of transactions [Order Number, Book Title and Author, Quantity, Price per Item]\n",
        "transactions = [\n",
        "    [34587, \"Learning Python, Mark Lutz\", 4, 40.95],\n",
        "    [98762, \"Programming Python, Mark Lutz\", 5, 56.80],\n",
        "    [77226, \"Head First Python, Paul Barry\", 3, 32.95],\n",
        "    [88112, \"Einführung in Python3, Bernd Klein\", 3, 24.99]\n",
        "]\n",
        "\n",
        "# Function to calculate adjusted total cost\n",
        "def calculate_order_value(transaction):\n",
        "    order_number, _, quantity, price_per_item = transaction\n",
        "    total_cost = quantity * price_per_item  # Calculate total cost\n",
        "\n",
        "    # If the total cost is less than 100, add 10€ to the total cost\n",
        "    if total_cost < 100:\n",
        "        total_cost += 10\n",
        "\n",
        "    # Return the tuple of order number and adjusted total cost\n",
        "    return (order_number, total_cost)\n",
        "\n",
        "# Create a list of 2-tuples using map()\n",
        "order_values = list(map(calculate_order_value, transactions))\n",
        "\n",
        "# Print the result\n",
        "print(order_values)\n"
      ],
      "metadata": {
        "colab": {
          "base_uri": "https://localhost:8080/"
        },
        "id": "goFA5Yp8yPud",
        "outputId": "99956825-5366-45be-9011-adcbc2ce4b0d"
      },
      "execution_count": 40,
      "outputs": [
        {
          "output_type": "stream",
          "name": "stdout",
          "text": [
            "[(34587, 163.8), (98762, 284.0), (77226, 108.85000000000001), (88112, 84.97)]\n"
          ]
        }
      ]
    },
    {
      "cell_type": "code",
      "source": [
        "[    (34587, 163.8),     (98762, 284.0),     (77226, 98.85),     (88112, 84.97)]\n"
      ],
      "metadata": {
        "colab": {
          "base_uri": "https://localhost:8080/"
        },
        "id": "ubPImnx7zAfP",
        "outputId": "5c418b65-1bf7-48a4-e83e-7ce0504630e9"
      },
      "execution_count": 41,
      "outputs": [
        {
          "output_type": "execute_result",
          "data": {
            "text/plain": [
              "[(34587, 163.8), (98762, 284.0), (77226, 98.85), (88112, 84.97)]"
            ]
          },
          "metadata": {},
          "execution_count": 41
        }
      ]
    },
    {
      "cell_type": "markdown",
      "source": [
        "##Explanation:\n",
        "###Data Representation:  The list transactions contains sublists with details about each order (Order Number, Book Title, Quantity, Price).\n",
        "\n",
        "###Function calculate_order_value:\n",
        "This function calculates the total cost (quantity * price_per_item) for each order.\n",
        "\n",
        "If the total cost is less than 100€, it adds 10€ to the total.\n",
        "\n",
        "###Using map(): The map() function applies the calculate_order_value function to each transaction in the transactions list.\n",
        "\n",
        "###return Format: Each tuple in the result contains the order number and the adjusted total cost.\n",
        "\n",
        "This solution meets the requirements by providing the adjusted costs in a 2-tuple format for each order. Let me know if you need further adjustments!"
      ],
      "metadata": {
        "id": "LBkPMurayXDP"
      }
    },
    {
      "cell_type": "markdown",
      "source": [],
      "metadata": {
        "id": "FJKQYcuQy8oE"
      }
    }
  ]
}